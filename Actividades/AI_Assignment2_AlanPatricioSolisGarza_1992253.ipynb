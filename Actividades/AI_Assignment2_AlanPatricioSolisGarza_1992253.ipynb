{
  "nbformat": 4,
  "nbformat_minor": 0,
  "metadata": {
    "colab": {
      "provenance": [],
      "collapsed_sections": []
    },
    "kernelspec": {
      "name": "python3",
      "display_name": "Python 3"
    },
    "language_info": {
      "name": "python"
    }
  },
  "cells": [
    {
      "cell_type": "markdown",
      "source": [
        "# Python Exercises\n",
        "Alan Patricio Solis Garza\n",
        "\n",
        "1992253"
      ],
      "metadata": {
        "id": "vsWVHYBFoPlD"
      }
    },
    {
      "cell_type": "code",
      "execution_count": 36,
      "metadata": {
        "colab": {
          "base_uri": "https://localhost:8080/"
        },
        "id": "h-iDyy9Xk-l5",
        "outputId": "5582c02b-ac3b-4fc6-91cb-40b882f4b862"
      },
      "outputs": [
        {
          "output_type": "stream",
          "name": "stdout",
          "text": [
            "Hello, please enter your name: Patricio\n",
            "Hi, Patricio\n"
          ]
        }
      ],
      "source": [
        "# Exercise 1\n",
        "\n",
        "name = str(input(\"Hello, please enter your name: \"))\n",
        "if name == 'Ana':\n",
        "  print()\n",
        "elif name == 'John':\n",
        "  print()\n",
        "elif name == 'Peter':\n",
        "  print()\n",
        "else:\n",
        "  print(\"Hi,\",name)"
      ]
    },
    {
      "cell_type": "code",
      "source": [
        "# Exercise 2\n",
        "\n",
        "list1 = [\"Whatever\", \"People\", \"Say\", \"I\", \"Am\", \"That's\", \"What\", \"I'm\", \"Not\"]\n",
        "print(list1[-1])\n",
        "list1.reverse()\n",
        "print(list1)"
      ],
      "metadata": {
        "colab": {
          "base_uri": "https://localhost:8080/"
        },
        "id": "t5CofzZtdf6U",
        "outputId": "b347234b-cd65-4868-8f9d-1e9fcf1ff8e1"
      },
      "execution_count": 37,
      "outputs": [
        {
          "output_type": "stream",
          "name": "stdout",
          "text": [
            "Not\n",
            "['Not', \"I'm\", 'What', \"That's\", 'Am', 'I', 'Say', 'People', 'Whatever']\n"
          ]
        }
      ]
    },
    {
      "cell_type": "code",
      "source": [
        "# Exercise 3\n",
        "\n",
        "list2 = [\"Two\", \"Shows\", \"A\", \"Day\", \"Four\", \"Nights\", \"A\", \"Week\"]\n",
        "def frame(words):\n",
        "    size = len(max(words, key=len))\n",
        "    print('*' * (size + 4))\n",
        "    for word in words:\n",
        "        print('* {a:<{b}} *'.format(a=word, b=size))\n",
        "    print('*' * (size + 4))\n",
        "frame(list2)"
      ],
      "metadata": {
        "colab": {
          "base_uri": "https://localhost:8080/"
        },
        "id": "cJyN6Hj9iS2i",
        "outputId": "0284659a-07c6-4678-866f-95e048fc2352"
      },
      "execution_count": 38,
      "outputs": [
        {
          "output_type": "stream",
          "name": "stdout",
          "text": [
            "**********\n",
            "* Two    *\n",
            "* Shows  *\n",
            "* A      *\n",
            "* Day    *\n",
            "* Four   *\n",
            "* Nights *\n",
            "* A      *\n",
            "* Week   *\n",
            "**********\n"
          ]
        }
      ]
    }
  ]
}